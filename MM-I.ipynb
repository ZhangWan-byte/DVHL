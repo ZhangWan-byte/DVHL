{
 "cells": [
  {
   "cell_type": "code",
   "execution_count": 1,
   "id": "cd906101",
   "metadata": {},
   "outputs": [
    {
     "name": "stdout",
     "output_type": "stream",
     "text": [
      "torch.Size([70000, 784])\n"
     ]
    },
    {
     "data": {
      "text/plain": [
       "<Figure size 640x480 with 0 Axes>"
      ]
     },
     "metadata": {},
     "output_type": "display_data"
    },
    {
     "data": {
      "image/png": "[encoded data removed]",
      "text/plain": [
       "<Figure size 480x480 with 1 Axes>"
      ]
     },
     "metadata": {},
     "output_type": "display_data"
    }
   ],
   "source": [
    "import time\n",
    "import copy\n",
    "import numpy as np\n",
    "import pandas as pd\n",
    "import seaborn as sn\n",
    "from tqdm import tqdm\n",
    "import matplotlib.pyplot as plt\n",
    "\n",
    "import sklearn\n",
    "from sklearn.manifold import TSNE\n",
    "from sklearn.datasets import load_digits, fetch_openml\n",
    "\n",
    "import torch\n",
    "import torch.nn as nn\n",
    "import torch.nn.functional as F\n",
    "\n",
    "import torchvision as tv\n",
    "import torchvision.transforms as transforms\n",
    "from torch.autograd import Variable\n",
    "from torchvision.utils import save_image\n",
    "\n",
    "# Data Preprocessing\n",
    "\n",
    "transform = transforms.Compose([transforms.ToTensor(), transforms.Normalize((0.1307,), (0.3081,))])\n",
    "trainTransform  = tv.transforms.Compose([tv.transforms.ToTensor(), tv.transforms.Normalize((0.1307,), (0.3081,))])\n",
    "trainset = tv.datasets.MNIST(root='./data',  train=True, download=True, transform=transform)\n",
    "testset = tv.datasets.MNIST(root='./data',  train=False, download=True, transform=transform)\n",
    "\n",
    "traindata = [i[0].reshape(-1) for i in trainset]\n",
    "trainlabel = [i[1] for i in trainset]\n",
    "testdata = [i[0].reshape(-1) for i in testset]\n",
    "testlabel = [i[1] for i in testset]\n",
    "\n",
    "X = traindata + testdata\n",
    "y = trainlabel + testlabel\n",
    "\n",
    "X = torch.vstack(X)\n",
    "print(X.shape)\n",
    "\n",
    "plt.gray()\n",
    "plt.matshow(X[0].reshape(28,28))\n",
    "plt.title(\"label: {}\".format(y[0]))\n",
    "plt.show()"
   ]
  },
  {
   "cell_type": "code",
   "execution_count": 8,
   "id": "5e5c85e2",
   "metadata": {},
   "outputs": [],
   "source": [
    "class MM_I(nn.Module):\n",
    "    def __init__(self, in_dim):\n",
    "        super(MM_I, self).__init__()\n",
    "        \n",
    "        self.linear1 = nn.Linear(in_dim, in_dim)\n",
    "        \n",
    "    def forward(self, x):\n",
    "        \n",
    "        return x"
   ]
  },
  {
   "cell_type": "code",
   "execution_count": 9,
   "id": "efb10278",
   "metadata": {},
   "outputs": [
    {
     "data": {
      "text/plain": [
       "torch.Size([70000, 784])"
      ]
     },
     "execution_count": 9,
     "metadata": {},
     "output_type": "execute_result"
    }
   ],
   "source": [
    "model = MM_I(in_dim=784)\n",
    "\n",
    "x = torch.ones((70000,784))\n",
    "out = model(x)\n",
    "out.shape"
   ]
  }
 ],
 "metadata": {
  "kernelspec": {
   "display_name": "Python 3 (ipykernel)",
   "language": "python",
   "name": "python3"
  },
  "language_info": {
   "codemirror_mode": {
    "name": "ipython",
    "version": 3
   },
   "file_extension": ".py",
   "mimetype": "text/x-python",
   "name": "python",
   "nbconvert_exporter": "python",
   "pygments_lexer": "ipython3",
   "version": "3.8.0"
  }
 },
 "nbformat": 4,
 "nbformat_minor": 5
}

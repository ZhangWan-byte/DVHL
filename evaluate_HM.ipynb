{
 "cells": [
  {
   "cell_type": "code",
   "execution_count": 1,
   "metadata": {},
   "outputs": [],
   "source": [
    "import os\n",
    "import time\n",
    "import copy\n",
    "import pickle\n",
    "import numpy as np\n",
    "import pandas as pd\n",
    "import seaborn as sn\n",
    "from tqdm import tqdm\n",
    "import matplotlib.pyplot as plt\n",
    "\n",
    "import warnings\n",
    "warnings.filterwarnings('ignore')\n",
    "\n",
    "import sklearn\n",
    "from sklearn.manifold import TSNE, LocallyLinearEmbedding, Isomap, MDS, SpectralEmbedding\n",
    "from sklearn.decomposition import PCA\n",
    "from sklearn.discriminant_analysis import LinearDiscriminantAnalysis\n",
    "\n",
    "import torch\n",
    "import torch.nn as nn\n",
    "import torch.optim as optim\n",
    "import torch.nn.functional as F\n",
    "from torch.autograd import Function\n",
    "\n",
    "from models import *\n",
    "from utils import *\n",
    "from datasets import *"
   ]
  },
  {
   "cell_type": "code",
   "execution_count": 2,
   "metadata": {},
   "outputs": [],
   "source": [
    "from ppo import *\n",
    "from env import *"
   ]
  },
  {
   "cell_type": "code",
   "execution_count": 5,
   "metadata": {},
   "outputs": [
    {
     "name": "stderr",
     "output_type": "stream",
     "text": [
      "100%|██████████| 6016/6016 [01:44<00:00, 57.37it/s]\n"
     ]
    },
    {
     "name": "stdout",
     "output_type": "stream",
     "text": [
      "torch.Size([6016, 1, 100, 100])\n",
      "torch.Size([1, 100, 100]) tensor([1., 0., 0., 0., 0.])\n"
     ]
    },
    {
     "name": "stderr",
     "output_type": "stream",
     "text": [
      "100%|██████████| 1504/1504 [00:25<00:00, 57.91it/s]\n"
     ]
    },
    {
     "name": "stdout",
     "output_type": "stream",
     "text": [
      "torch.Size([1504, 1, 100, 100])\n",
      "torch.Size([1, 100, 100]) tensor([0., 0., 1., 0., 0.])\n",
      "6016 1504\n"
     ]
    }
   ],
   "source": [
    "class PointPrefDataset(Dataset):\n",
    "    def __init__(self, names, path=\"./exp1/data_augmented/\", one_hot=False):\n",
    "        \n",
    "        self.names = names\n",
    "\n",
    "        self.point_data = []\n",
    "        self.point_label = []\n",
    "        for i in tqdm(range(len(names))):\n",
    "            zi, yi = torch.load(os.path.join(path, self.names[i]))\n",
    "            zi = get_Ihat(Z=normalise(zi), size=100)\n",
    "\n",
    "            zi = torch.from_numpy(zi).unsqueeze(0).float()\n",
    "            yi = torch.tensor(yi).long()\n",
    "\n",
    "            self.point_data.append(zi)\n",
    "            self.point_label.append(yi)\n",
    "\n",
    "        self.point_data = torch.from_numpy(np.stack(self.point_data, axis=0))\n",
    "        print(self.point_data.shape)\n",
    "        \n",
    "        if one_hot==True:\n",
    "            self.point_label = F.one_hot(torch.tensor(self.point_label)-1, num_classes=5).float()\n",
    "        else:\n",
    "            self.point_label = torch.tensor(self.point_label)-1\n",
    "\n",
    "\n",
    "    def __len__(self):\n",
    "        return len(self.point_data)\n",
    "\n",
    "    def __getitem__(self, idx):\n",
    "        z = self.point_data[idx]\n",
    "        label = self.point_label[idx]\n",
    "\n",
    "        return z, label\n",
    "\n",
    "names = os.listdir(\"./exp1/data_augmented/\")\n",
    "np.random.shuffle(names)\n",
    "train_names = names[:int(len(names)*0.8)]\n",
    "test_names = names[int(len(names)*0.8):]\n",
    "\n",
    "point_dataset = PointPrefDataset(train_names, one_hot=True)\n",
    "z, label = point_dataset[0]\n",
    "print(z.shape, label)\n",
    "\n",
    "point_testdataset = PointPrefDataset(test_names, one_hot=True)\n",
    "z, label = point_testdataset[0]\n",
    "print(z.shape, label)\n",
    "\n",
    "print(len(point_dataset), len(point_testdataset))"
   ]
  },
  {
   "cell_type": "code",
   "execution_count": 7,
   "metadata": {},
   "outputs": [],
   "source": [
    "def pref_pair(batch):\n",
    "    batches = []\n",
    "    for i in range(len(batch)):\n",
    "        sample_i, label_i = batch[i]\n",
    "        label_i = torch.argmax(label_i)\n",
    "        \n",
    "        # Randomly sample two indices\n",
    "        while True:\n",
    "            indices = random.sample(range(len(batch)), 2)\n",
    "            if i not in indices:\n",
    "                break\n",
    "        \n",
    "        # Fetch data samples at sampled indices\n",
    "        sample_1, label_1 = batch[indices[0]]\n",
    "        sample_2, label_2 = batch[indices[1]]\n",
    "\n",
    "        label_1 = 1 if label_i>torch.argmax(label_1) else 0\n",
    "        label_2 = 1 if label_i>torch.argmax(label_2) else 0\n",
    "\n",
    "        # Append the pair of samples as a batch\n",
    "        batches.append((sample_i, sample_1, label_1))\n",
    "        batches.append((sample_i, sample_2, label_2))\n",
    "\n",
    "    x1 = torch.vstack([i[0] for i in batches]).unsqueeze(1).cuda()\n",
    "    x2 = torch.vstack([i[1] for i in batches]).unsqueeze(1).cuda()\n",
    "    y = torch.from_numpy(np.vstack([i[2] for i in batches])).float().cuda()\n",
    "\n",
    "    return x1, x2, y"
   ]
  },
  {
   "cell_type": "code",
   "execution_count": 8,
   "metadata": {},
   "outputs": [],
   "source": [
    "model = SiameseNet(\n",
    "    hidden=64, \n",
    "    block=BasicBlock, \n",
    "    num_block=[1,1,1,1], \n",
    "    num_classes=5, \n",
    "    in_channels=1, \n",
    "    out_channels=[10, 16, 24, 32]).cuda()\n",
    "\n",
    "model.load_state_dict(torch.load(\"./exp1/model_dropout.pt\"))\n",
    "\n",
    "train_dataloader = DataLoader(point_dataset, batch_size=128, shuffle=True, collate_fn=pref_pair)\n",
    "test_dataloader = DataLoader(point_testdataset, batch_size=100, shuffle=False, collate_fn=pref_pair)"
   ]
  },
  {
   "cell_type": "code",
   "execution_count": 9,
   "metadata": {},
   "outputs": [
    {
     "name": "stdout",
     "output_type": "stream",
     "text": [
      "95.14627659574468\n"
     ]
    }
   ],
   "source": [
    "# Testing\n",
    "model.train()\n",
    "correct = 0\n",
    "total = 0\n",
    "\n",
    "mean_li = []\n",
    "var_li = []\n",
    "correctness = []\n",
    "labels = []\n",
    "with torch.no_grad():\n",
    "    for x1, x2, y in test_dataloader:\n",
    "        x1 = x1.cuda()\n",
    "        x2 = x2.cuda()\n",
    "        y = y.cuda()\n",
    "\n",
    "        outputs_li = []\n",
    "        for _ in range(10):\n",
    "            outputs = model(x1, x2).detach().cpu().view(1,-1)\n",
    "            outputs_li.append(outputs)\n",
    "        outputs = torch.vstack(outputs_li)\n",
    "        mean = torch.mean(outputs, dim=0)\n",
    "        var = torch.var(outputs, dim=0)\n",
    "\n",
    "        mean_li.append(mean)\n",
    "        var_li.append(var)\n",
    "\n",
    "        y_pred = mean.detach().cpu()\n",
    "        y_true = y.detach().cpu()\n",
    "\n",
    "        total += y.size(0)\n",
    "        correct += (y_pred.round().view(-1) == y_true.view(-1)).sum().item()\n",
    "\n",
    "        correctness.append((y_pred.round().view(-1) == y_true.view(-1)).view(-1))\n",
    "        labels.append(y_true.view(-1))\n",
    "\n",
    "accuracy = 100.0 * correct / total\n",
    "print(accuracy)"
   ]
  },
  {
   "cell_type": "code",
   "execution_count": 10,
   "metadata": {},
   "outputs": [
    {
     "data": {
      "text/plain": [
       "(torch.Size([3008]), torch.Size([3008]))"
      ]
     },
     "execution_count": 10,
     "metadata": {},
     "output_type": "execute_result"
    }
   ],
   "source": [
    "mean_list = torch.hstack(mean_li).view(-1)\n",
    "var_list = torch.hstack(var_li).view(-1)\n",
    "\n",
    "mean_list.shape, var_list.shape"
   ]
  },
  {
   "cell_type": "code",
   "execution_count": 11,
   "metadata": {},
   "outputs": [],
   "source": [
    "correctness = torch.hstack(correctness).view(-1)\n",
    "labels = torch.hstack(labels).view(-1)"
   ]
  },
  {
   "cell_type": "code",
   "execution_count": 12,
   "metadata": {},
   "outputs": [
    {
     "name": "stdout",
     "output_type": "stream",
     "text": [
      "right: 0.0115 ± 0.0234\n",
      "wrong: 0.0466±0.0275\n"
     ]
    }
   ],
   "source": [
    "right_vars = []\n",
    "wrong_vars = []\n",
    "for i in range(len(correctness)):\n",
    "    if correctness[i]==0:\n",
    "        # print(mean_list[i], var_list[i], labels[i])\n",
    "        wrong_vars.append(var_list[i].item())\n",
    "    else:\n",
    "        right_vars.append(var_list[i].item())\n",
    "\n",
    "print(\"right: {:.4f} ± {:.4f}\\nwrong: {:.4f}±{:.4f}\".format(np.mean(right_vars), np.std(right_vars), np.mean(wrong_vars), np.std(wrong_vars)))"
   ]
  },
  {
   "cell_type": "code",
   "execution_count": 15,
   "metadata": {},
   "outputs": [
    {
     "data": {
      "image/png": "[encoded data removed]",
      "text/plain": [
       "<Figure size 1600x800 with 2 Axes>"
      ]
     },
     "metadata": {},
     "output_type": "display_data"
    },
    {
     "data": {
      "image/png": "[encoded data removed]",
      "text/plain": [
       "<Figure size 1600x800 with 2 Axes>"
      ]
     },
     "metadata": {},
     "output_type": "display_data"
    }
   ],
   "source": [
    "%matplotlib inline\n",
    "plt.figure(figsize=(16,8))\n",
    "\n",
    "plt.subplot(121)\n",
    "plt.hist(right_vars)\n",
    "plt.title(\"right average vars: {:.6f}\".format(np.mean(right_vars)))\n",
    "\n",
    "plt.subplot(122)\n",
    "plt.hist(wrong_vars)\n",
    "plt.title(\"wrong average vars: {:.6f}\".format(np.mean(wrong_vars)))\n",
    "\n",
    "plt.show()"
   ]
  },
  {
   "cell_type": "code",
   "execution_count": 16,
   "metadata": {},
   "outputs": [
    {
     "data": {
      "text/plain": [
       "2.22218103032247e-57"
      ]
     },
     "execution_count": 16,
     "metadata": {},
     "output_type": "execute_result"
    }
   ],
   "source": [
    "from scipy.stats import mannwhitneyu\n",
    "U1, p = mannwhitneyu(right_vars, wrong_vars, method=\"auto\")\n",
    "p"
   ]
  },
  {
   "cell_type": "code",
   "execution_count": 17,
   "metadata": {},
   "outputs": [
    {
     "data": {
      "text/plain": [
       "tensor(0.3219)"
      ]
     },
     "execution_count": 17,
     "metadata": {},
     "output_type": "execute_result"
    }
   ],
   "source": [
    "wrong_outs = []\n",
    "wrong_var = []\n",
    "lbs = []\n",
    "\n",
    "for i in range(len(mean_list)):\n",
    "    if mean_list[i].round().int() != labels[i].int():\n",
    "        # print(mean_list[i], var_list[i], labels[i])\n",
    "\n",
    "        wrong_outs.append(mean_list[i])\n",
    "        wrong_var.append(var_list[i])\n",
    "        lbs.append(labels[i])\n",
    "\n",
    "wrong_outs = torch.tensor(wrong_outs)\n",
    "wrong_var = torch.tensor(wrong_var)\n",
    "lbs = torch.tensor(lbs)\n",
    "\n",
    "sum(F.relu(wrong_outs - torch.sqrt(wrong_var)*2).round() == lbs) / len(lbs)"
   ]
  },
  {
   "cell_type": "code",
   "execution_count": 22,
   "metadata": {},
   "outputs": [
    {
     "name": "stdout",
     "output_type": "stream",
     "text": [
      "rectified acc for wrong: 0.8630136847496033\n"
     ]
    },
    {
     "data": {
      "text/plain": [
       "(44, 6, 14, 82)"
      ]
     },
     "execution_count": 22,
     "metadata": {},
     "output_type": "execute_result"
    }
   ],
   "source": [
    "from sklearn.metrics import confusion_matrix\n",
    "\n",
    "lbs_new = []\n",
    "\n",
    "for i in range(len(wrong_outs)):\n",
    "    if wrong_vars[i]<0.02:\n",
    "        tmp = wrong_outs[i].round().item()\n",
    "    else:\n",
    "        if wrong_outs[i]>0.5:\n",
    "            tmp = max((wrong_outs[i] - torch.sqrt(wrong_var[i])*3).round().item(), 0)\n",
    "        else:\n",
    "            # tmp = max((wrong_outs[i] - torch.sqrt(wrong_var[i])*2).item(), 1)\n",
    "            # tmp = 1 - wrong_outs[i].round().item()\n",
    "            tmp = min((wrong_outs[i] + torch.sqrt(wrong_var[i])*3).round().item(), 1)\n",
    "\n",
    "    lbs_new.append(tmp)\n",
    "# print(lbs_new)\n",
    "lbs_new = torch.tensor(lbs_new).int()\n",
    "print(\"rectified acc for wrong: {}\".format(sum(lbs_new == lbs) / len(lbs)))\n",
    "tn, fp, fn, tp = confusion_matrix(y_true=lbs.round(), y_pred=lbs_new).ravel()\n",
    "tn, fp, fn, tp"
   ]
  },
  {
   "cell_type": "code",
   "execution_count": 33,
   "metadata": {},
   "outputs": [],
   "source": [
    "beta1 = 2 #1 #2 #3 #4\n",
    "beta2 = 10*beta1"
   ]
  },
  {
   "cell_type": "code",
   "execution_count": 52,
   "metadata": {},
   "outputs": [
    {
     "data": {
      "text/plain": [
       "(0.5, 0.5)"
      ]
     },
     "execution_count": 52,
     "metadata": {},
     "output_type": "execute_result"
    }
   ],
   "source": [
    "# x = np.linspace(0, 1, 1000)\n",
    "# y = np.exp(beta2*x) / (1+np.exp(beta2*x))\n",
    "\n",
    "# plt.plot(x, y)\n",
    "\n",
    "p_yes = 0.5#1\n",
    "p_no = 0.5#9\n",
    "\n",
    "Q_yes = 0.5 #0.8\n",
    "Q_no = 0.5 #0.2\n",
    "\n",
    "p_A1_yes = p_yes * np.exp(beta1 * Q_yes) / (p_yes*np.exp(beta1*Q_yes) + p_no*np.exp(beta1*Q_no))\n",
    "p_A1_no =  p_no*np.exp(beta1*Q_no) / (p_yes*np.exp(beta1*Q_yes) + p_no*np.exp(beta1*Q_no))\n",
    "\n",
    "p_A1_yes, p_A1_no"
   ]
  },
  {
   "cell_type": "code",
   "execution_count": 53,
   "metadata": {},
   "outputs": [
    {
     "data": {
      "text/plain": [
       "17393"
      ]
     },
     "execution_count": 53,
     "metadata": {},
     "output_type": "execute_result"
    }
   ],
   "source": [
    "import gc\n",
    "gc.collect()"
   ]
  },
  {
   "cell_type": "code",
   "execution_count": 48,
   "metadata": {},
   "outputs": [
    {
     "data": {
      "text/plain": [
       "(0.5, 6.144174602214707e-06, 0.9999938558253978, 0.5)"
      ]
     },
     "execution_count": 48,
     "metadata": {},
     "output_type": "execute_result"
    }
   ],
   "source": [
    "p_yes2yes = np.exp(beta2 * (Q_yes - Q_yes)) / (1 + np.exp(beta2 * (Q_yes - Q_yes)))\n",
    "p_yes2no = np.exp(beta2 * (Q_no - Q_yes)) / (1 + np.exp(beta2 * (Q_no - Q_yes)))\n",
    "p_no2yes = np.exp(beta2 * (Q_yes - Q_no)) / (1 + np.exp(beta2 * (Q_yes - Q_no)))\n",
    "p_no2no = np.exp(beta2 * (Q_no - Q_no)) / (1 + np.exp(beta2 * (Q_no - Q_no)))\n",
    "\n",
    "p_yes2yes, p_yes2no, p_no2yes, p_no2no"
   ]
  },
  {
   "cell_type": "code",
   "execution_count": 54,
   "metadata": {},
   "outputs": [
    {
     "data": {
      "text/plain": [
       "0.1887703343990727"
      ]
     },
     "execution_count": 54,
     "metadata": {},
     "output_type": "execute_result"
    }
   ],
   "source": [
    "(1 - np.exp(0.5) / (1 + np.exp(0.5))) * p_A1_yes"
   ]
  },
  {
   "cell_type": "code",
   "execution_count": 49,
   "metadata": {},
   "outputs": [
    {
     "data": {
      "text/plain": [
       "1.4222241462657687e-06"
      ]
     },
     "execution_count": 49,
     "metadata": {},
     "output_type": "execute_result"
    }
   ],
   "source": [
    "p_A2_no_yes = (1 - p_no2yes) * p_A1_no\n",
    "p_A2_no_yes"
   ]
  },
  {
   "cell_type": "code",
   "execution_count": null,
   "metadata": {},
   "outputs": [],
   "source": [
    "x = np.linspace(0, 1, 1000)\n",
    "y = np.exp(beta2*x) / (1+np.exp(beta2*x))\n",
    "\n",
    "plt.plot(x, y)"
   ]
  },
  {
   "cell_type": "code",
   "execution_count": null,
   "metadata": {},
   "outputs": [],
   "source": []
  },
  {
   "cell_type": "code",
   "execution_count": 49,
   "metadata": {},
   "outputs": [
    {
     "data": {
      "text/plain": [
       "tensor([0.1618])"
      ]
     },
     "execution_count": 49,
     "metadata": {},
     "output_type": "execute_result"
    }
   ],
   "source": [
    "# def calc_reward(pred_p, prior=[0.5,0.5], beta1=2, beta2=20):\n",
    "#     p_A1 = [prior[i]*np.exp(beta1(prior[i])) / (prior[0]*np.exp(beta1(prior[0])) + prior[1]*np.exp(beta1(prior[1]))) for i in prior]\n",
    "#     print(p_A1)\n",
    "\n",
    "#     p_a_to_ap = 0.5\n",
    "\n",
    "    \n",
    "\n",
    "Q_hat = {\"yes\":torch.tensor([0.7]), \"no\":torch.tensor([0.3])}\n",
    "prior = torch.tensor([0.5, 0.5])\n",
    "beta1 = 2\n",
    "beta2 = beta1 * 10\n",
    "\n",
    "\n",
    "\n",
    "def p_A1(p, Q_hat, a=\"yes\", beta1=2):\n",
    "\n",
    "    up = p[a] * torch.exp(beta1 * Q_hat[a])\n",
    "\n",
    "    down = 0\n",
    "    for i in [\"yes\", \"no\"]:\n",
    "        down += p[i] * torch.exp(beta1 * Q_hat[i])\n",
    "\n",
    "    return up / down\n",
    "\n",
    "# p_A1(p=Q_hat, Q_hat=Q_hat, a=\"yes\", beta1=2)      # 0.8385\n",
    "# p_A1(p=Q_hat, Q_hat=Q_hat, a=\"no\", beta1=2)       # 0.1615\n",
    "\n",
    "\n",
    "\n",
    "def p_trans(start, end, Q_hat, beta2):\n",
    "    tmp = torch.exp(beta2 * (Q_hat[end] - Q_hat[start]))\n",
    "\n",
    "    return tmp / (1+tmp)\n",
    "\n",
    "# p_trans(start=\"yes\", end=\"no\", Q_hat=Q_hat)   # 0.0003\n",
    "# p_trans(start=\"no\", end=\"yes\", Q_hat=Q_hat)   # 0.9997\n",
    "\n",
    "\n",
    "\n",
    "def p_A2(a, a_prime, Q_hat, beta1, beta2):\n",
    "    if a != a_prime:\n",
    "        res = (1 - p_trans(start=a, end=a_prime, Q_hat=Q_hat, beta2=beta2)) * p_A1(p=Q_hat, Q_hat=Q_hat, a=a, beta1=beta1)\n",
    "\n",
    "    if a == a_prime:\n",
    "        t1 = (1 - p_trans(start=a_prime, end=a_prime, Q_hat=Q_hat, beta2=beta2)) * p_A1(p=Q_hat, Q_hat=Q_hat, a=a, beta1=beta1)\n",
    "\n",
    "        t2 = 0\n",
    "        for ai in [\"yes\", \"no\"]:\n",
    "            t2 += p_trans(start=ai, end=a_prime, Q_hat=Q_hat, beta2=beta2) * p_A1(p=Q_hat, Q_hat=Q_hat, a=ai, beta1=beta1)\n",
    "\n",
    "        res = t1 + t2\n",
    "\n",
    "    return res\n",
    "\n",
    "# p_A2(a=\"yes\", a_prime=\"no\", Q_hat=Q_hat)\n",
    "# p_A2(a=\"no\", a_prime=\"yes\", Q_hat=Q_hat, beta1=beta1, beta2=beta2)\n",
    "p_A2(a=\"yes\", a_prime=\"no\", Q_hat=Q_hat, beta1=beta1, beta2=beta2)\n",
    "# p_A2(a=\"yes\", a_prime=\"yes\", Q_hat=Q_hat, beta1=beta1, beta2=beta2)\n",
    "# p_A2(a=\"no\", a_prime=\"no\", Q_hat=Q_hat, beta1=beta1, beta2=beta2)"
   ]
  }
 ],
 "metadata": {
  "kernelspec": {
   "display_name": "dr",
   "language": "python",
   "name": "python3"
  },
  "language_info": {
   "codemirror_mode": {
    "name": "ipython",
    "version": 3
   },
   "file_extension": ".py",
   "mimetype": "text/x-python",
   "name": "python",
   "nbconvert_exporter": "python",
   "pygments_lexer": "ipython3",
   "version": "3.9.19"
  }
 },
 "nbformat": 4,
 "nbformat_minor": 2
}

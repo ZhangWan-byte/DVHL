{
 "cells": [
  {
   "cell_type": "code",
   "execution_count": 1,
   "metadata": {},
   "outputs": [],
   "source": [
    "import numpy as np\n",
    "import matplotlib.pyplot as plt"
   ]
  },
  {
   "cell_type": "code",
   "execution_count": 2,
   "metadata": {},
   "outputs": [],
   "source": [
    "from sklearn.ensemble import RandomForestClassifier, RandomForestRegressor\n",
    "from sklearn.gaussian_process import GaussianProcessClassifier, GaussianProcessRegressor\n",
    "from sklearn.gaussian_process.kernels import RBF, Matern, RationalQuadratic, ExpSineSquared, DotProduct\n",
    "\n",
    "from sklearn.metrics import accuracy_score\n",
    "from sklearn.model_selection import cross_val_score"
   ]
  },
  {
   "cell_type": "code",
   "execution_count": 3,
   "metadata": {},
   "outputs": [
    {
     "data": {
      "text/plain": [
       "((48, 4), (80, 4))"
      ]
     },
     "execution_count": 3,
     "metadata": {},
     "output_type": "execute_result"
    }
   ],
   "source": [
    "sim = np.load(\"./hm_feedback_sim.npy\")\n",
    "bio = np.load(\"./hm_feedback_bio.npy\")\n",
    "\n",
    "sim.shape, bio.shape"
   ]
  },
  {
   "cell_type": "code",
   "execution_count": 38,
   "metadata": {},
   "outputs": [],
   "source": [
    "# create pair (x1, x2, y)\n",
    "# x1 & x2 are parameters, y=1 if x1 is preferred over x2\n",
    "\n",
    "def calc_theta_features(x1, x2, y, mode=0):\n",
    "\n",
    "    # default: [k1, m1, n1, k2, m2, n2]\n",
    "    if mode==0:\n",
    "        feats = [sim[i][0], sim[i][1], sim[i][2], sim[j][0], sim[j][1], sim[j][2], y]\n",
    "\n",
    "    # add k1-k2, m1-m2, n1-n2, k1/k2, m1/m2, n1/n2\n",
    "    elif mode==1:\n",
    "        feats = [\n",
    "            sim[i][0], sim[i][1], sim[i][2], \n",
    "            sim[j][0], sim[j][1], sim[j][2], \n",
    "            sim[i][0]-sim[j][0], \n",
    "            sim[i][1]-sim[j][1], \n",
    "            sim[i][2]-sim[j][2], \n",
    "            sim[i][0]/sim[j][0], \n",
    "            sim[i][1]/sim[j][1], \n",
    "            sim[i][2]/sim[j][2], \n",
    "            y\n",
    "        ]\n",
    "\n",
    "    else:\n",
    "        print(\"wrong mode!\")\n",
    "\n",
    "    return feats\n",
    "\n",
    "def create_pref(data, mode=0):\n",
    "    pairs = []\n",
    "    for i in range(len(data)):\n",
    "        for j in range(len(data)):\n",
    "            y = 1 if data[i][-1] > data[j][-1] else 0\n",
    "            pairs.append(calc_theta_features(data[i][:3], data[j][:3], y, mode=mode))\n",
    "    pairs = np.array(pairs)\n",
    "    print(pairs.shape)\n",
    "    return pairs"
   ]
  },
  {
   "cell_type": "code",
   "execution_count": 39,
   "metadata": {},
   "outputs": [
    {
     "name": "stdout",
     "output_type": "stream",
     "text": [
      "(2304, 7)\n",
      "(6400, 7)\n",
      "(2304, 13)\n",
      "(6400, 13)\n"
     ]
    }
   ],
   "source": [
    "sim_data0 = create_pref(sim, mode=0)\n",
    "bio_data0 = create_pref(bio, mode=0)\n",
    "sim_data1 = create_pref(sim, mode=1)\n",
    "bio_data1 = create_pref(bio, mode=1)"
   ]
  },
  {
   "cell_type": "markdown",
   "metadata": {},
   "source": [
    "# Tree"
   ]
  },
  {
   "cell_type": "code",
   "execution_count": 40,
   "metadata": {},
   "outputs": [],
   "source": [
    "def cross_val_rf(ne_list, md_list, mss_list, X, y, cv=5):\n",
    "\n",
    "    best = [0.0, 0.0]\n",
    "    best_param = []\n",
    "\n",
    "    for ne in ne_list:\n",
    "        for md in md_list:\n",
    "            for mss in mss_list:\n",
    "                    \n",
    "                    rf = RandomForestClassifier(n_estimators=ne, max_depth=md, min_samples_split=mss)\n",
    "\n",
    "                    scores = cross_val_score(rf, X, y, cv=cv)\n",
    "                    if scores.mean() > best[0]:\n",
    "                        best = [scores.mean(), scores.std()]\n",
    "                        best_param = [ne, md, mss]\n",
    "                        print(\"best param: \", ne, md, mss)\n",
    "                        print(\"best acc: \", best[0], best[1])"
   ]
  },
  {
   "cell_type": "code",
   "execution_count": 32,
   "metadata": {},
   "outputs": [
    {
     "name": "stdout",
     "output_type": "stream",
     "text": [
      "best param:  50 8 2\n",
      "best acc:  0.6141497689333207 0.0005338111855135441\n"
     ]
    }
   ],
   "source": [
    "X, y = sim_data0[:, :-1], sim_data0[:, -1]\n",
    "\n",
    "cross_val_rf(ne_list=[50,100,200], md_list=[8,12,16,32,None], mss_list=[2,5,10,20], X=X, y=y, cv=5)"
   ]
  },
  {
   "cell_type": "code",
   "execution_count": 41,
   "metadata": {},
   "outputs": [
    {
     "name": "stdout",
     "output_type": "stream",
     "text": [
      "best param:  50 8 2\n",
      "best acc:  0.6141497689333207 0.0005338111855135441\n"
     ]
    }
   ],
   "source": [
    "X, y = sim_data1[:, :-1], sim_data1[:, -1]\n",
    "\n",
    "cross_val_rf(ne_list=[50,100,200], md_list=[8,12,16,32,None], mss_list=[2,5,10,20], X=X, y=y, cv=5)"
   ]
  },
  {
   "cell_type": "code",
   "execution_count": 34,
   "metadata": {},
   "outputs": [
    {
     "name": "stdout",
     "output_type": "stream",
     "text": [
      "best param:  50 8 2\n",
      "best acc:  0.6884375 0.0003125000000000267\n"
     ]
    }
   ],
   "source": [
    "X, y = bio_data0[:, :-1], bio_data0[:, -1]\n",
    "\n",
    "cross_val_rf(ne_list=[50,100,200], md_list=[8,12,16,32,None], mss_list=[2,5,10,20], X=X, y=y, cv=5)"
   ]
  },
  {
   "cell_type": "code",
   "execution_count": 42,
   "metadata": {},
   "outputs": [
    {
     "name": "stdout",
     "output_type": "stream",
     "text": [
      "best param:  50 8 2\n",
      "best acc:  0.6884375 0.0003125000000000267\n"
     ]
    }
   ],
   "source": [
    "X, y = bio_data1[:, :-1], bio_data1[:, -1]\n",
    "\n",
    "cross_val_rf(ne_list=[50,100,200], md_list=[8,12,16,32,None], mss_list=[2,5,10,20], X=X, y=y, cv=5)"
   ]
  },
  {
   "cell_type": "markdown",
   "metadata": {},
   "source": [
    "# GP"
   ]
  },
  {
   "cell_type": "code",
   "execution_count": 50,
   "metadata": {},
   "outputs": [],
   "source": [
    "def cross_val_gp(kernel_list, X, y, cv=5):\n",
    "\n",
    "    best = [0.0, 0.0]\n",
    "    best_param = []\n",
    "\n",
    "    for kernel in kernel_list:\n",
    "                \n",
    "        gpc = GaussianProcessClassifier(kernel=kernel).fit(X, y)\n",
    "\n",
    "        scores = cross_val_score(gpc, X, y, cv=cv)\n",
    "        if scores.mean() > best[0]:\n",
    "            best = [scores.mean(), scores.std()]\n",
    "            print(\"best kernel: \", kernel)\n",
    "            print(\"best acc: \", best[0], best[1])"
   ]
  },
  {
   "cell_type": "code",
   "execution_count": 53,
   "metadata": {},
   "outputs": [],
   "source": [
    "kernel_list = [\n",
    "    1.0 * RBF(1.0), \n",
    "    1.0 * Matern(1.0), \n",
    "    1.0 * RationalQuadratic(1.0), \n",
    "    1.0 * ExpSineSquared(1.0), \n",
    "    1.0 * DotProduct(1.0)\n",
    "]"
   ]
  },
  {
   "cell_type": "code",
   "execution_count": 54,
   "metadata": {},
   "outputs": [
    {
     "name": "stdout",
     "output_type": "stream",
     "text": [
      "best kernel:  1**2 * RBF(length_scale=1)\n",
      "best acc:  0.6141497689333207 0.0005338111855135441\n"
     ]
    }
   ],
   "source": [
    "X, y = sim_data0[:, :-1], sim_data0[:, -1]\n",
    "\n",
    "cross_val_gp(kernel_list=kernel_list, X=X, y=y, cv=5)"
   ]
  },
  {
   "cell_type": "code",
   "execution_count": 55,
   "metadata": {},
   "outputs": [
    {
     "name": "stdout",
     "output_type": "stream",
     "text": [
      "best kernel:  1**2 * RBF(length_scale=1)\n",
      "best acc:  0.6141497689333207 0.0005338111855135441\n"
     ]
    }
   ],
   "source": [
    "X, y = sim_data1[:, :-1], sim_data1[:, -1]\n",
    "\n",
    "cross_val_gp(kernel_list=kernel_list, X=X, y=y, cv=5)"
   ]
  },
  {
   "cell_type": "code",
   "execution_count": 56,
   "metadata": {},
   "outputs": [
    {
     "name": "stdout",
     "output_type": "stream",
     "text": [
      "best kernel:  1**2 * RBF(length_scale=1)\n",
      "best acc:  0.6884375 0.0003125000000000267\n"
     ]
    }
   ],
   "source": [
    "X, y = bio_data0[:, :-1], bio_data0[:, -1]\n",
    "\n",
    "cross_val_gp(kernel_list=kernel_list, X=X, y=y, cv=5)"
   ]
  },
  {
   "cell_type": "code",
   "execution_count": null,
   "metadata": {},
   "outputs": [],
   "source": [
    "X, y = bio_data1[:, :-1], bio_data1[:, -1]\n",
    "\n",
    "cross_val_gp(kernel_list=kernel_list, X=X, y=y, cv=5)"
   ]
  },
  {
   "cell_type": "markdown",
   "metadata": {},
   "source": [
    "# KAN"
   ]
  },
  {
   "cell_type": "code",
   "execution_count": null,
   "metadata": {},
   "outputs": [],
   "source": []
  }
 ],
 "metadata": {
  "kernelspec": {
   "display_name": "dr",
   "language": "python",
   "name": "python3"
  },
  "language_info": {
   "codemirror_mode": {
    "name": "ipython",
    "version": 3
   },
   "file_extension": ".py",
   "mimetype": "text/x-python",
   "name": "python",
   "nbconvert_exporter": "python",
   "pygments_lexer": "ipython3",
   "version": "3.9.19"
  }
 },
 "nbformat": 4,
 "nbformat_minor": 2
}
